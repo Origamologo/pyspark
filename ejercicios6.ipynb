{
 "cells": [
  {
   "cell_type": "code",
   "execution_count": 1,
   "metadata": {},
   "outputs": [
    {
     "name": "stderr",
     "output_type": "stream",
     "text": [
      "23/07/25 17:47:06 WARN Utils: Your hostname, RNTDELL000700 resolves to a loopback address: 127.0.1.1; using 192.168.1.49 instead (on interface wlp0s20f3)\n",
      "23/07/25 17:47:06 WARN Utils: Set SPARK_LOCAL_IP if you need to bind to another address\n",
      "Setting default log level to \"WARN\".\n",
      "To adjust logging level use sc.setLogLevel(newLevel). For SparkR, use setLogLevel(newLevel).\n",
      "23/07/25 17:47:06 WARN NativeCodeLoader: Unable to load native-hadoop library for your platform... using builtin-java classes where applicable\n",
      "23/07/25 17:47:07 WARN Utils: Service 'SparkUI' could not bind on port 4040. Attempting port 4041.\n"
     ]
    }
   ],
   "source": [
    "import findspark\n",
    "from pyspark.sql import SparkSession\n",
    "\n",
    "from pyspark.sql.functions import col, sum, desc\n",
    "\n",
    "findspark.init()\n",
    "spark = SparkSession.builder.master(\"local[*]\").getOrCreate()\n",
    "\n",
    "sc = spark.sparkContext"
   ]
  },
  {
   "cell_type": "markdown",
   "metadata": {},
   "source": [
    "Los datos adjuntos a esta lección forman parte de la base de datos Football Data from Transfermarkt de Kaggle. El conjunto de datos se compone de varios archivos CSV con información sobre competiciones, juegos, clubes, jugadores y apariciones."
   ]
  },
  {
   "cell_type": "code",
   "execution_count": 2,
   "metadata": {},
   "outputs": [],
   "source": [
    "df_appearances = spark.read.option('header', 'true').csv('./data/football/appearances.csv')\n",
    "df_clubs = spark.read.option('header', 'true').csv('./data/football/clubs.csv')\n",
    "df_competitions = spark.read.option('header', 'true').csv('./data/football/competitions.csv')\n",
    "df_games = spark.read.option('header', 'true').csv('./data/football/games.csv')\n",
    "df_leagues = spark.read.option('header', 'true').csv('./data/football/leagues.csv')\n",
    "df_players = spark.read.option('header', 'true').csv('./data/football/players.csv')"
   ]
  },
  {
   "cell_type": "code",
   "execution_count": 3,
   "metadata": {},
   "outputs": [
    {
     "name": "stdout",
     "output_type": "stream",
     "text": [
      "+---------+-------+-------------+--------------+--------------+-----+-------+--------------+------------+---------+\n",
      "|player_id|game_id|appearance_id|competition_id|player_club_id|goals|assists|minutes_played|yellow_cards|red_cards|\n",
      "+---------+-------+-------------+--------------+--------------+-----+-------+--------------+------------+---------+\n",
      "|    52453|2483937|2483937_52453|           RU1|         28095|    0|      0|            90|           0|        0|\n",
      "|    67064|2479929|2479929_67064|           RU1|         28095|    0|      0|            90|           0|        0|\n",
      "|    67064|2483937|2483937_67064|           RU1|         28095|    0|      0|            90|           0|        0|\n",
      "|    67064|2484582|2484582_67064|           RU1|         28095|    0|      0|            55|           0|        0|\n",
      "|    67064|2485965|2485965_67064|           RU1|         28095|    0|      0|            90|           0|        0|\n",
      "+---------+-------+-------------+--------------+--------------+-----+-------+--------------+------------+---------+\n",
      "only showing top 5 rows\n",
      "\n"
     ]
    }
   ],
   "source": [
    "df_appearances.show(5)"
   ]
  },
  {
   "cell_type": "code",
   "execution_count": 4,
   "metadata": {},
   "outputs": [
    {
     "name": "stdout",
     "output_type": "stream",
     "text": [
      "+-------+-------------------+-------------------+-----------------------+------------------+----------+-----------+-----------------+---------------------+---------------------+--------------------+-------------+-------------------+----------------+--------------------+\n",
      "|club_id|               name|        pretty_name|domestic_competition_id|total_market_value|squad_size|average_age|foreigners_number|foreigners_percentage|national_team_players|        stadium_name|stadium_seats|net_transfer_record|      coach_name|                 url|\n",
      "+-------+-------------------+-------------------+-----------------------+------------------+----------+-----------+-----------------+---------------------+---------------------+--------------------+-------------+-------------------+----------------+--------------------+\n",
      "|   1429|          cesena-fc|          Cesena Fc|                    IT1|              5.09|        30|       24.0|                3|                 10.0|                    1|\"Orogel Stadium \"...|        23860|           +£180Th.|Pierpaolo Bisoli|https://www.trans...|\n",
      "|   5220|       gs-ergotelis|       Gs Ergotelis|                    GR1|              3.62|        30|       22.7|               11|                 36.7|                    1|    Pankritio Stadio|        25780|                +-0|   Juan Ferrando|https://www.trans...|\n",
      "|  20698|      balikesirspor|      Balikesirspor|                    TR1|              2.21|        33|       25.5|                9|                 27.3|                    1|   Balıkesir Atatürk|        15800|                +-0|  Ismail Ertekin|https://www.trans...|\n",
      "|   6894|kayseri-erciyesspor|Kayseri Erciyesspor|                    TR1|              null|         0|        0.0|                0|                 null|                    0|Kayseri Atatürk S...|         2000|                +-0|  Hikmet Karaman|https://www.trans...|\n",
      "|   5572|         niki-volou|         Niki Volou|                    GR1|              3.38|        26|       27.9|                6|                 23.1|                    1|Panthessaliko Stadio|        22700|                +-0|    Wiljan Vloet|https://www.trans...|\n",
      "+-------+-------------------+-------------------+-----------------------+------------------+----------+-----------+-----------------+---------------------+---------------------+--------------------+-------------+-------------------+----------------+--------------------+\n",
      "only showing top 5 rows\n",
      "\n"
     ]
    }
   ],
   "source": [
    "df_clubs.show(5)"
   ]
  },
  {
   "cell_type": "code",
   "execution_count": 5,
   "metadata": {},
   "outputs": [
    {
     "name": "stdout",
     "output_type": "stream",
     "text": [
      "+--------------+---------------+------------------+----------+------------+--------------------+-------------+--------------------+\n",
      "|competition_id|           name|              type|country_id|country_name|domestic_league_code|confederation|                 url|\n",
      "+--------------+---------------+------------------+----------+------------+--------------------+-------------+--------------------+\n",
      "|            L1|     bundesliga|        first_tier|        40|     Germany|                  L1|       europa|https://www.trans...|\n",
      "|           DFB|      dfb-pokal|      domestic_cup|        40|     Germany|                  L1|       europa|https://www.trans...|\n",
      "|           DFL|   dfl-supercup|domestic_super_cup|        40|     Germany|                  L1|       europa|https://www.trans...|\n",
      "|           NL1|     eredivisie|        first_tier|       122| Netherlands|                 NL1|       europa|https://www.trans...|\n",
      "|           NLP|toto-knvb-beker|      domestic_cup|       122| Netherlands|                 NL1|       europa|https://www.trans...|\n",
      "+--------------+---------------+------------------+----------+------------+--------------------+-------------+--------------------+\n",
      "only showing top 5 rows\n",
      "\n"
     ]
    }
   ],
   "source": [
    "df_competitions.show(5)"
   ]
  },
  {
   "cell_type": "code",
   "execution_count": 6,
   "metadata": {},
   "outputs": [
    {
     "name": "stdout",
     "output_type": "stream",
     "text": [
      "+-------+----------------+------+-------------+----------+------------+------------+---------------+---------------+------------------+------------------+--------------------+----------+-----------------+--------------------+\n",
      "|game_id|competition_code|season|        round|      date|home_club_id|away_club_id|home_club_goals|away_club_goals|home_club_position|away_club_position|             stadium|attendance|          referee|                 url|\n",
      "+-------+----------------+------+-------------+----------+------------+------------+---------------+---------------+------------------+------------------+--------------------+----------+-----------------+--------------------+\n",
      "|2457642|            NLSC|  2014|        Final|2014-08-03|        1269|         610|              1|              0|              null|              null| Johan Cruijff ArenA|     42000|   Danny Makkelie|https://www.trans...|\n",
      "|2639088|            BESC|  2013|        Final|2014-07-20|          58|         498|              2|              1|              null|              null|Constant Vanden S...|     13733|  Jonathan Lardot|https://www.trans...|\n",
      "|2481145|             SUC|  2014|final 1st leg|2014-08-19|         418|          13|              1|              1|              null|              null|   Santiago Bernabéu|     75897|Estrada Fernández|https://www.trans...|\n",
      "|2484338|            POSU|  2014|        Final|2014-08-10|         294|        2425|              3|              2|              null|              null|Estádio Municipal...|     30000|     Duarte Gomes|https://www.trans...|\n",
      "|2502472|            FRCH|  2014|        Final|2014-08-02|         583|         855|              2|              0|              null|              null|     Workers Stadium|     39752|   Clément Turpin|https://www.trans...|\n",
      "+-------+----------------+------+-------------+----------+------------+------------+---------------+---------------+------------------+------------------+--------------------+----------+-----------------+--------------------+\n",
      "only showing top 5 rows\n",
      "\n"
     ]
    }
   ],
   "source": [
    "df_games.show(5)"
   ]
  },
  {
   "cell_type": "code",
   "execution_count": 118,
   "metadata": {},
   "outputs": [
    {
     "name": "stdout",
     "output_type": "stream",
     "text": [
      "+---------+------------------+-------------+\n",
      "|league_id|              name|confederation|\n",
      "+---------+------------------+-------------+\n",
      "|       L1|        bundesliga|       europa|\n",
      "|      NL1|        eredivisie|       europa|\n",
      "|      BE1|jupiler-pro-league|       europa|\n",
      "|      ES1|            laliga|       europa|\n",
      "|      PO1|          liga-nos|       europa|\n",
      "+---------+------------------+-------------+\n",
      "only showing top 5 rows\n",
      "\n"
     ]
    }
   ],
   "source": [
    "df_leagues.show(5)"
   ]
  },
  {
   "cell_type": "code",
   "execution_count": 8,
   "metadata": {},
   "outputs": [
    {
     "name": "stdout",
     "output_type": "stream",
     "text": [
      "+---------+---------------+-------------------+-------------------+----------------+----------------------+-------------+----------+--------------+-----+------------+-------------------+---------------------------+--------------------+\n",
      "|player_id|current_club_id|               name|        pretty_name|country_of_birth|country_of_citizenship|date_of_birth|  position|  sub_position| foot|height_in_cm|market_value_in_gbp|highest_market_value_in_gbp|                 url|\n",
      "+---------+---------------+-------------------+-------------------+----------------+----------------------+-------------+----------+--------------+-----+------------+-------------------+---------------------------+--------------------+\n",
      "|    38790|          28095|     dmitri-golubov|     Dmitri Golubov|           UdSSR|                Russia|   1985-06-24|    Attack|Centre-Forward| Both|         178|               null|                   675000.0|https://www.trans...|\n",
      "|   106539|          28095| aleksandr-vasiljev| Aleksandr Vasiljev|          Russia|                Russia|   1992-01-23|    Attack|  Right Winger|Right|         182|               null|                   225000.0|https://www.trans...|\n",
      "|   164389|           2288|      rory-donnelly|      Rory Donnelly|Northern Ireland|      Northern Ireland|   1992-02-18|    Attack|Centre-Forward|Right|         188|           113000.0|                   225000.0|https://www.trans...|\n",
      "|    45247|           1162|     damien-perquis|     Damien Perquis|          France|                France|   1986-03-08|Goalkeeper|    Goalkeeper|Right|         186|               null|                   900000.0|https://www.trans...|\n",
      "|    97205|          28095|nikita-bezlikhotnov|Nikita Bezlikhotnov|           UdSSR|                Russia|   1990-08-19|    Attack|  Right Winger|Right|         179|               null|                   675000.0|https://www.trans...|\n",
      "+---------+---------------+-------------------+-------------------+----------------+----------------------+-------------+----------+--------------+-----+------------+-------------------+---------------------------+--------------------+\n",
      "only showing top 5 rows\n",
      "\n"
     ]
    }
   ],
   "source": [
    "df_players.show(5)"
   ]
  },
  {
   "cell_type": "markdown",
   "metadata": {},
   "source": [
    "Determine los tres países con mayor número de jugadores (jugadores nacidos en ese país). El resultado debe estar ordenado de forma descendente."
   ]
  },
  {
   "cell_type": "code",
   "execution_count": 12,
   "metadata": {},
   "outputs": [
    {
     "name": "stdout",
     "output_type": "stream",
     "text": [
      "+----------------+-----+\n",
      "|country_of_birth|count|\n",
      "+----------------+-----+\n",
      "|          France| 1694|\n",
      "|           Spain| 1388|\n",
      "|           Italy| 1312|\n",
      "+----------------+-----+\n",
      "only showing top 3 rows\n",
      "\n"
     ]
    }
   ],
   "source": [
    "(df_players.groupBy('country_of_birth')\n",
    "    .count()\n",
    "    .orderBy(desc('count'))\n",
    ").na.drop().show(3)"
   ]
  },
  {
   "cell_type": "markdown",
   "metadata": {},
   "source": [
    "Obtenga la lista de jugadores con tarjeta roja. La salida debe contener dos columnas, el nombre de pila del jugador y la cantidad de tarjetas rojas que tiene."
   ]
  },
  {
   "cell_type": "code",
   "execution_count": 114,
   "metadata": {},
   "outputs": [],
   "source": [
    "df_rojas = df_appearances.groupBy('player_id').agg(sum('red_cards').alias('total_red_cards')).orderBy(desc('total_red_cards'))"
   ]
  },
  {
   "cell_type": "code",
   "execution_count": 115,
   "metadata": {},
   "outputs": [
    {
     "name": "stdout",
     "output_type": "stream",
     "text": [
      "+---------+---------------+\n",
      "|player_id|total_red_cards|\n",
      "+---------+---------------+\n",
      "|   131821|            5.0|\n",
      "|   177843|            5.0|\n",
      "|    45146|            5.0|\n",
      "|   111455|            5.0|\n",
      "|     4811|            5.0|\n",
      "+---------+---------------+\n",
      "only showing top 5 rows\n",
      "\n"
     ]
    }
   ],
   "source": [
    "df_rojas.show(5)"
   ]
  },
  {
   "cell_type": "code",
   "execution_count": 89,
   "metadata": {},
   "outputs": [],
   "source": [
    "df_nombre = df_players.select(['player_id', 'pretty_name'])"
   ]
  },
  {
   "cell_type": "code",
   "execution_count": 91,
   "metadata": {},
   "outputs": [
    {
     "name": "stdout",
     "output_type": "stream",
     "text": [
      "+---------+-------------------+\n",
      "|player_id|        pretty_name|\n",
      "+---------+-------------------+\n",
      "|    38790|     Dmitri Golubov|\n",
      "|   106539| Aleksandr Vasiljev|\n",
      "|   164389|      Rory Donnelly|\n",
      "|    45247|     Damien Perquis|\n",
      "|    97205|Nikita Bezlikhotnov|\n",
      "+---------+-------------------+\n",
      "only showing top 5 rows\n",
      "\n"
     ]
    }
   ],
   "source": [
    "df_nombre.show(5)"
   ]
  },
  {
   "cell_type": "code",
   "execution_count": 110,
   "metadata": {},
   "outputs": [],
   "source": [
    "df_nombre_rojas = df_nombre.join(df_rojas, 'player_id').drop('player_id').orderBy(desc('total_red_cards'))"
   ]
  },
  {
   "cell_type": "code",
   "execution_count": 116,
   "metadata": {},
   "outputs": [
    {
     "name": "stdout",
     "output_type": "stream",
     "text": [
      "+----------------------+---------------+\n",
      "|pretty_name           |total_red_cards|\n",
      "+----------------------+---------------+\n",
      "|Thomas Lam            |5.0            |\n",
      "|Domenico Berardi      |5.0            |\n",
      "|Mario Balotelli       |5.0            |\n",
      "|Granit Xhaka          |5.0            |\n",
      "|Hilton                |5.0            |\n",
      "|Ivan Ordets           |4.0            |\n",
      "|Kalidou Koulibaly     |4.0            |\n",
      "|Rodrigo De Paul       |4.0            |\n",
      "|Rodrigo               |4.0            |\n",
      "|David Luiz            |4.0            |\n",
      "|Jordi Amat            |4.0            |\n",
      "|Rafik Halliche        |4.0            |\n",
      "|Yannick Cahuzac       |4.0            |\n",
      "|Roberto Soriano       |4.0            |\n",
      "|Jordan Amavi          |4.0            |\n",
      "|Damien Da Silva       |4.0            |\n",
      "|Ognjen Vranjes        |4.0            |\n",
      "|Timothee Kolodziejczak|4.0            |\n",
      "|Fallou Diagne         |4.0            |\n",
      "|Allan Nyom            |4.0            |\n",
      "+----------------------+---------------+\n",
      "only showing top 20 rows\n",
      "\n"
     ]
    }
   ],
   "source": [
    "df_nombre_rojas.show(truncate=False)"
   ]
  },
  {
   "cell_type": "markdown",
   "metadata": {},
   "source": [
    "¿Cuántos juegos se jugaron en la Premier League? La salida debe contener dos columnas, el nombre de la liga y la cantidad de juegos que se jugaron en ella."
   ]
  },
  {
   "cell_type": "code",
   "execution_count": 145,
   "metadata": {},
   "outputs": [
    {
     "name": "stdout",
     "output_type": "stream",
     "text": [
      "+---------+--------------+\n",
      "|league_id|          name|\n",
      "+---------+--------------+\n",
      "|      GB1|premier-league|\n",
      "+---------+--------------+\n",
      "\n"
     ]
    }
   ],
   "source": [
    "premier_code = df_leagues.where(col('name') == 'premier-league').drop('confederation')\n",
    "premier_code.show()"
   ]
  },
  {
   "cell_type": "code",
   "execution_count": 144,
   "metadata": {},
   "outputs": [
    {
     "name": "stdout",
     "output_type": "stream",
     "text": [
      "+----------------+-----+\n",
      "|competition_code|count|\n",
      "+----------------+-----+\n",
      "|             GB1| 2809|\n",
      "+----------------+-----+\n",
      "\n"
     ]
    }
   ],
   "source": [
    "premier_games = df_games.filter(col('competition_code') == 'GB1').dropDuplicates(['game_id']).groupBy('competition_code').count()\n",
    "premier_games.show()"
   ]
  },
  {
   "cell_type": "code",
   "execution_count": 151,
   "metadata": {},
   "outputs": [
    {
     "name": "stdout",
     "output_type": "stream",
     "text": [
      "+--------------+-----+\n",
      "|          name|count|\n",
      "+--------------+-----+\n",
      "|premier-league| 2809|\n",
      "+--------------+-----+\n",
      "\n"
     ]
    }
   ],
   "source": [
    "total_games = premier_code.join(premier_games, col('league_id') == col('competition_code')).drop(col('league_id'), col('competition_code'))\n",
    "total_games.show()"
   ]
  },
  {
   "cell_type": "markdown",
   "metadata": {},
   "source": [
    "Obtenga las tres ligas con mayor número de asistencia de público teniendo en cuenta todos los juegos que se jugaron en ellas. El resultado debe estar ordenado de forma descendente y tener dos columnas, el nombre de la liga y la asistencia total."
   ]
  },
  {
   "cell_type": "code",
   "execution_count": 157,
   "metadata": {},
   "outputs": [],
   "source": [
    "total_attendance = df_games.groupBy('competition_code').agg(sum('attendance').alias('total_attendance'))"
   ]
  },
  {
   "cell_type": "code",
   "execution_count": 161,
   "metadata": {},
   "outputs": [
    {
     "name": "stdout",
     "output_type": "stream",
     "text": [
      "+--------------------+----------------+\n",
      "|                name|total_attendance|\n",
      "+--------------------+----------------+\n",
      "|      premier-league|     8.6964852E7|\n",
      "|          bundesliga|     7.8102473E7|\n",
      "|              laliga|     6.2943533E7|\n",
      "|             serie-a|     5.3475147E7|\n",
      "|             ligue-1|     5.1593963E7|\n",
      "|          eredivisie|     3.4572418E7|\n",
      "|        premier-liga|     2.0878744E7|\n",
      "|            liga-nos|     2.0072843E7|\n",
      "|  jupiler-pro-league|     1.7817099E7|\n",
      "|           super-lig|     1.7455236E7|\n",
      "|scottish-premiership|     1.7379753E7|\n",
      "|         superligaen|       7945555.0|\n",
      "|      super-league-1|       6417136.0|\n",
      "|        premier-liga|       4944837.0|\n",
      "+--------------------+----------------+\n",
      "\n"
     ]
    }
   ],
   "source": [
    "league_attendance = df_leagues.join(total_attendance, col('league_id') == col('competition_code')).orderBy(desc('total_attendance')).drop(col('league_id'), col('confederation'), col('competition_code'))\n",
    "league_attendance.show()"
   ]
  }
 ],
 "metadata": {
  "kernelspec": {
   "display_name": "pyspark-IyzVi8nU",
   "language": "python",
   "name": "python3"
  },
  "language_info": {
   "codemirror_mode": {
    "name": "ipython",
    "version": 3
   },
   "file_extension": ".py",
   "mimetype": "text/x-python",
   "name": "python",
   "nbconvert_exporter": "python",
   "pygments_lexer": "ipython3",
   "version": "3.10.6"
  },
  "orig_nbformat": 4
 },
 "nbformat": 4,
 "nbformat_minor": 2
}
