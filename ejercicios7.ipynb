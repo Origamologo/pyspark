{
 "cells": [
  {
   "cell_type": "code",
   "execution_count": 95,
   "metadata": {},
   "outputs": [],
   "source": [
    "import findspark\n",
    "from pyspark.sql import SparkSession\n",
    "\n",
    "from pyspark.sql.functions import desc, col, countDistinct, rank\n",
    "from pyspark.sql.window import Window\n",
    "\n",
    "findspark.init()\n",
    "spark = SparkSession.builder.master(\"local[*]\").getOrCreate()\n",
    "\n",
    "sc = spark.sparkContext"
   ]
  },
  {
   "cell_type": "markdown",
   "metadata": {},
   "source": [
    "Adjunto como recurso a esta lección están los archivos movies.csv y movie_ratings.csv. En ambos archivos las columnas están delimitadas por un pip(“|”).\n",
    "\n",
    "Cada línea del archivo movies.csv representa a un actor que actuó en una película. Si una película tiene diez actores, habrá diez filas para esa película en particular."
   ]
  },
  {
   "cell_type": "code",
   "execution_count": 6,
   "metadata": {},
   "outputs": [],
   "source": [
    "df_movies = spark.read.option('header', 'true').option('delimiter', '|').csv('./data/movies/movies.csv')"
   ]
  },
  {
   "cell_type": "code",
   "execution_count": 11,
   "metadata": {},
   "outputs": [],
   "source": [
    "df_movie_ratings = spark.read.option('header', 'true').option('delimiter', '|').csv('./data/movies/movie_ratings.csv')"
   ]
  },
  {
   "cell_type": "code",
   "execution_count": 9,
   "metadata": {},
   "outputs": [
    {
     "name": "stdout",
     "output_type": "stream",
     "text": [
      "root\n",
      " |-- actor: string (nullable = true)\n",
      " |-- pelicula: string (nullable = true)\n",
      " |-- año: string (nullable = true)\n",
      "\n"
     ]
    }
   ],
   "source": [
    "df_movies.printSchema()"
   ]
  },
  {
   "cell_type": "code",
   "execution_count": 10,
   "metadata": {},
   "outputs": [
    {
     "name": "stdout",
     "output_type": "stream",
     "text": [
      "+-----------------+-------------+----+\n",
      "|            actor|     pelicula| año|\n",
      "+-----------------+-------------+----+\n",
      "|McClure, Marc (I)|Freaky Friday|2003|\n",
      "|McClure, Marc (I)| Coach Carter|2005|\n",
      "|McClure, Marc (I)|  Superman II|1980|\n",
      "|McClure, Marc (I)|    Apollo 13|1995|\n",
      "|McClure, Marc (I)|     Superman|1978|\n",
      "+-----------------+-------------+----+\n",
      "only showing top 5 rows\n",
      "\n"
     ]
    }
   ],
   "source": [
    "df_movies.show(5)"
   ]
  },
  {
   "cell_type": "code",
   "execution_count": 12,
   "metadata": {},
   "outputs": [
    {
     "name": "stdout",
     "output_type": "stream",
     "text": [
      "root\n",
      " |-- valoracion: string (nullable = true)\n",
      " |-- pelicula: string (nullable = true)\n",
      " |-- año: string (nullable = true)\n",
      "\n"
     ]
    }
   ],
   "source": [
    "df_movie_ratings.printSchema()"
   ]
  },
  {
   "cell_type": "code",
   "execution_count": 14,
   "metadata": {},
   "outputs": [
    {
     "name": "stdout",
     "output_type": "stream",
     "text": [
      "+----------+--------------------+----+\n",
      "|valoracion|            pelicula| año|\n",
      "+----------+--------------------+----+\n",
      "|    1.6339|'Crocodile' Dunde...|1988|\n",
      "|    7.6177|                  10|1979|\n",
      "|    1.2864|10 Things I Hate ...|1999|\n",
      "|    0.3243|           10,000 BC|2008|\n",
      "|    0.3376|      101 Dalmatians|1996|\n",
      "+----------+--------------------+----+\n",
      "only showing top 5 rows\n",
      "\n"
     ]
    }
   ],
   "source": [
    "df_movie_ratings.show(5)"
   ]
  },
  {
   "cell_type": "markdown",
   "metadata": {},
   "source": [
    "Calcule la cantidad de películas en las que participó cada actor. La salida debe tener dos columnas: actor y conteo. La salida debe ordenarse por el conteo en orden descendente."
   ]
  },
  {
   "cell_type": "code",
   "execution_count": 20,
   "metadata": {},
   "outputs": [
    {
     "name": "stdout",
     "output_type": "stream",
     "text": [
      "+------------------+-------------+\n",
      "|             actor|pelis_x_actor|\n",
      "+------------------+-------------+\n",
      "|  Tatasciore, Fred|           38|\n",
      "|     Welker, Frank|           38|\n",
      "|Jackson, Samuel L.|           32|\n",
      "|     Harnell, Jess|           31|\n",
      "|     Willis, Bruce|           27|\n",
      "+------------------+-------------+\n",
      "only showing top 5 rows\n",
      "\n"
     ]
    }
   ],
   "source": [
    "df_pelisXactor = df_movies.drop('año').groupBy('actor').agg(count('pelicula').alias('pelis_x_actor')).orderBy(desc('pelis_x_actor')).show(5)"
   ]
  },
  {
   "cell_type": "code",
   "execution_count": 72,
   "metadata": {},
   "outputs": [
    {
     "name": "stdout",
     "output_type": "stream",
     "text": [
      "+------------------+-----+\n",
      "|             actor|count|\n",
      "+------------------+-----+\n",
      "|  Tatasciore, Fred|   38|\n",
      "|     Welker, Frank|   38|\n",
      "|Jackson, Samuel L.|   32|\n",
      "|     Harnell, Jess|   31|\n",
      "|     Willis, Bruce|   27|\n",
      "+------------------+-----+\n",
      "only showing top 5 rows\n",
      "\n"
     ]
    }
   ],
   "source": [
    "# Otro modo más fácil de resolverlo:\n",
    "\n",
    "df_movies.groupBy('actor').count().orderBy(desc('count')).show(5)"
   ]
  },
  {
   "cell_type": "markdown",
   "metadata": {},
   "source": [
    "Calcule la cantidad de películas producidas cada año. La salida debe tener tres columnas: año, siglo al que pertenece el año y conteo. La salida debe ordenarse por el conteo en orden descendente."
   ]
  },
  {
   "cell_type": "code",
   "execution_count": 26,
   "metadata": {},
   "outputs": [
    {
     "data": {
      "text/plain": [
       "[Row(count(pelicula)=1409)]"
      ]
     },
     "execution_count": 26,
     "metadata": {},
     "output_type": "execute_result"
    }
   ],
   "source": [
    "df_movies.agg(countDistinct('pelicula')).collect()"
   ]
  },
  {
   "cell_type": "code",
   "execution_count": 28,
   "metadata": {},
   "outputs": [
    {
     "data": {
      "text/plain": [
       "[Row(count(pelicula)=3536)]"
      ]
     },
     "execution_count": 28,
     "metadata": {},
     "output_type": "execute_result"
    }
   ],
   "source": [
    "df_movie_ratings.agg(countDistinct('pelicula')).collect()"
   ]
  },
  {
   "cell_type": "code",
   "execution_count": 38,
   "metadata": {},
   "outputs": [
    {
     "name": "stdout",
     "output_type": "stream",
     "text": [
      "+----------+--------+---+-----+\n",
      "|valoracion|pelicula|año|count|\n",
      "+----------+--------+---+-----+\n",
      "+----------+--------+---+-----+\n",
      "\n"
     ]
    }
   ],
   "source": [
    "# Comprobamos que no hay duplicados en df_movie_ratings\n",
    "\n",
    "duplicate_rows = df_movie_ratings.groupBy(df_movie_ratings.columns).count().where(col(\"count\") > 1)\n",
    "duplicate_rows.show()"
   ]
  },
  {
   "cell_type": "code",
   "execution_count": 70,
   "metadata": {},
   "outputs": [
    {
     "name": "stdout",
     "output_type": "stream",
     "text": [
      "+----+-----------+\n",
      "| año|pelis_x_año|\n",
      "+----+-----------+\n",
      "|1937|          1|\n",
      "|1939|          2|\n",
      "|1940|          2|\n",
      "|1942|          1|\n",
      "|1946|          1|\n",
      "+----+-----------+\n",
      "only showing top 5 rows\n",
      "\n"
     ]
    }
   ],
   "source": [
    "# Usaremos df_movie_ratings porque contiene más películas\n",
    "\n",
    "df_pelisXyear = df_movie_ratings.groupBy('año').agg(count('pelicula').alias('pelis_x_año')).orderBy('año')\n",
    "df_pelisXyear.show(5)"
   ]
  },
  {
   "cell_type": "code",
   "execution_count": 116,
   "metadata": {},
   "outputs": [
    {
     "name": "stdout",
     "output_type": "stream",
     "text": [
      "+----+-----+-----------+\n",
      "| año|siglo|pelis_x_año|\n",
      "+----+-----+-----------+\n",
      "|1937|   20|          1|\n",
      "|1939|   20|          2|\n",
      "|1940|   20|          2|\n",
      "|1942|   20|          1|\n",
      "|1946|   20|          1|\n",
      "+----+-----+-----------+\n",
      "only showing top 5 rows\n",
      "\n"
     ]
    }
   ],
   "source": [
    "(df_pelisXyear.withColumn(\"año\",col(\"año\").cast(\"integer\")) # Pasamos la columna año de string a entero\n",
    "              .withColumn(\"siglo\", ((col('año')/100)+1).cast(\"integer\")) # Creamos la columna siglo\n",
    "              .select(col('año'), col('siglo'), col('pelis_x_año')) # Hacemos un select para obtener las columnas en el orden deseado\n",
    "              .show(5)\n",
    ")"
   ]
  },
  {
   "cell_type": "markdown",
   "metadata": {},
   "source": [
    "Obtenga la película con la calificación más alta por año. La salida debe tener solo una película por año y debe contener tres columnas: año, título de la película y valoración."
   ]
  },
  {
   "cell_type": "code",
   "execution_count": 93,
   "metadata": {},
   "outputs": [
    {
     "name": "stdout",
     "output_type": "stream",
     "text": [
      "+----------+--------------------+----+\n",
      "|valoracion|            pelicula| año|\n",
      "+----------+--------------------+----+\n",
      "|    1.6339|'Crocodile' Dunde...|1988|\n",
      "|    7.6177|                  10|1979|\n",
      "|    1.2864|10 Things I Hate ...|1999|\n",
      "|    0.3243|           10,000 BC|2008|\n",
      "|    0.3376|      101 Dalmatians|1996|\n",
      "+----------+--------------------+----+\n",
      "only showing top 5 rows\n",
      "\n"
     ]
    }
   ],
   "source": [
    "df_movie_ratings.show(5)"
   ]
  },
  {
   "cell_type": "code",
   "execution_count": 106,
   "metadata": {},
   "outputs": [],
   "source": [
    "windowSpec = Window.partitionBy('año').orderBy(desc('valoracion'))"
   ]
  },
  {
   "cell_type": "code",
   "execution_count": 119,
   "metadata": {},
   "outputs": [
    {
     "name": "stdout",
     "output_type": "stream",
     "text": [
      "+----+-------------------------------+-----------------+\n",
      "|año |pelicula                       |maxima_valoracion|\n",
      "+----+-------------------------------+-----------------+\n",
      "|1937|Snow White and the Seven Dwarfs|2.2207           |\n",
      "|1939|The Wizard of Oz               |7.9215           |\n",
      "|1940|Pinocchio                      |7.8557           |\n",
      "|1942|Bambi                          |1.5053           |\n",
      "|1946|Song of the South              |7.602            |\n",
      "|1950|Cinderella                     |9.4226           |\n",
      "|1953|Peter Pan                      |5.4756           |\n",
      "|1954|Rear Window                    |10.7625          |\n",
      "|1955|Lady and the Tramp             |5.1258           |\n",
      "|1956|The Ten Commandments           |7.3377           |\n",
      "|1959|Sleeping Beauty                |6.3919           |\n",
      "|1960|Spartacus                      |8.8223           |\n",
      "|1961|One Hundred and One Dalmatians |0.6726           |\n",
      "|1962|Dr. No                         |6.6427           |\n",
      "|1963|It's a Mad Mad Mad Mad World   |6.626            |\n",
      "|1964|My Fair Lady                   |7.587            |\n",
      "|1965|Doctor Zhivago                 |4.9304           |\n",
      "|1966|Who's Afraid of Virginia Woolf?|11.1111          |\n",
      "|1967|Valley of the Dolls            |8.3729           |\n",
      "|1968|Funny Girl                     |9.4653           |\n",
      "+----+-------------------------------+-----------------+\n",
      "only showing top 20 rows\n",
      "\n"
     ]
    }
   ],
   "source": [
    "(df_movie_ratings\n",
    "                .withColumn('rank', rank().over(windowSpec)) # Aplicamos rank a la partición de ventana\n",
    "                .filter(col('rank')==1) # Filtramos los que estén en el primer puesto\n",
    "                .select(col('año'), col('pelicula'), col('valoracion').alias('maxima_valoracion')) # Seleccionamos las columnas que nos interesan\n",
    "                .show(truncate=False) # Imprimimos el resultado\n",
    ")"
   ]
  }
 ],
 "metadata": {
  "kernelspec": {
   "display_name": "pyspark-IyzVi8nU",
   "language": "python",
   "name": "python3"
  },
  "language_info": {
   "codemirror_mode": {
    "name": "ipython",
    "version": 3
   },
   "file_extension": ".py",
   "mimetype": "text/x-python",
   "name": "python",
   "nbconvert_exporter": "python",
   "pygments_lexer": "ipython3",
   "version": "3.10.6"
  },
  "orig_nbformat": 4
 },
 "nbformat": 4,
 "nbformat_minor": 2
}
