{
 "cells": [
  {
   "cell_type": "code",
   "execution_count": 20,
   "metadata": {},
   "outputs": [],
   "source": [
    "import findspark\n",
    "from pyspark.sql import SparkSession\n",
    "import math\n",
    "\n",
    "findspark.init()\n",
    "spark = SparkSession.builder.master(\"local[*]\").getOrCreate()"
   ]
  },
  {
   "cell_type": "code",
   "execution_count": 21,
   "metadata": {},
   "outputs": [],
   "source": [
    "sc = spark.sparkContext"
   ]
  },
  {
   "cell_type": "markdown",
   "metadata": {},
   "source": [
    "Cree un RDD llamado lenguajes que contenga los siguientes lenguajes de programación: Python, R, C, Scala, Ruby y SQL.\n",
    "\n",
    "    1.-Obtenga un nuevo RDD a partir del RDD lenguajes donde todos los lenguajes de programación estén en mayúsculas.\n",
    "    2.-Obtenga un nuevo RDD a partir del RDD lenguajes donde todos los lenguajes de programación estén en minúsculas.\n",
    "    3.-Cree un nuevo RDD que solo contenga aquellos lenguajes de programación que comiencen con la letra R."
   ]
  },
  {
   "cell_type": "code",
   "execution_count": 22,
   "metadata": {},
   "outputs": [
    {
     "data": {
      "text/plain": [
       "['Python', 'R', 'C', 'Scala', 'Ruby', 'SQL']"
      ]
     },
     "execution_count": 22,
     "metadata": {},
     "output_type": "execute_result"
    }
   ],
   "source": [
    "rdd_lenguajes = sc.parallelize(['Python', 'R', 'C', 'Scala', 'Ruby', 'SQL'])\n",
    "rdd_lenguajes.collect()"
   ]
  },
  {
   "cell_type": "code",
   "execution_count": 23,
   "metadata": {},
   "outputs": [
    {
     "data": {
      "text/plain": [
       "['PYTHON', 'R', 'C', 'SCALA', 'RUBY', 'SQL']"
      ]
     },
     "execution_count": 23,
     "metadata": {},
     "output_type": "execute_result"
    }
   ],
   "source": [
    "# 1\n",
    "rdd_lenguajes_may = rdd_lenguajes.map(lambda x: x.upper())\n",
    "rdd_lenguajes_may.collect()"
   ]
  },
  {
   "cell_type": "code",
   "execution_count": 24,
   "metadata": {},
   "outputs": [
    {
     "data": {
      "text/plain": [
       "['python', 'r', 'c', 'scala', 'ruby', 'sql']"
      ]
     },
     "execution_count": 24,
     "metadata": {},
     "output_type": "execute_result"
    }
   ],
   "source": [
    "#  2\n",
    "rdd_lenguajes_min = rdd_lenguajes.map(lambda x: x.lower())\n",
    "rdd_lenguajes_min.collect()"
   ]
  },
  {
   "cell_type": "code",
   "execution_count": 25,
   "metadata": {},
   "outputs": [
    {
     "data": {
      "text/plain": [
       "['R', 'Ruby']"
      ]
     },
     "execution_count": 25,
     "metadata": {},
     "output_type": "execute_result"
    }
   ],
   "source": [
    "# 3\n",
    "rdd_lenguajes_r = rdd_lenguajes.filter(lambda x: x.startswith('R'))\n",
    "rdd_lenguajes_r.collect()"
   ]
  },
  {
   "cell_type": "markdown",
   "metadata": {},
   "source": [
    "Cree un RDD llamado pares que contenga los números pares existentes en el intervalo 20-30.\n",
    "\n",
    "    1.-Cree el RDD llamado sqrt, este debe contener la raíz cuadrada de los elementos que componen el RDD pares.\n",
    "    2.-Obtenga una lista compuesta por los números pares en el intervalo 20-30 y sus respectivas raíces cuadradas. Un ejemplo del resultado deseado para el intervalo 50-60 sería la lista [50, 7.0710678118654755, 52, 7.211102550927978, 54, 7.3484692283495345, 56, 7.483314773547883, 58, 7.615773105863909, 60, 7.745966692414834].\n",
    "    3.-Eleve el número de particiones del RDD sqrt a 20.\n",
    "    4.-Si tuviera que disminuir el número de particiones luego de haberlo establecido en 20, ¿qué función utilizaría para hacer más eficiente su código?"
   ]
  },
  {
   "cell_type": "code",
   "execution_count": 26,
   "metadata": {},
   "outputs": [
    {
     "data": {
      "text/plain": [
       "[20, 22, 24, 26, 28, 30]"
      ]
     },
     "execution_count": 26,
     "metadata": {},
     "output_type": "execute_result"
    }
   ],
   "source": [
    "rdd_pares = sc.parallelize(range(20, 31)).filter(lambda x: x % 2 == 0)\n",
    "rdd_pares.collect()"
   ]
  },
  {
   "cell_type": "code",
   "execution_count": 27,
   "metadata": {},
   "outputs": [
    {
     "data": {
      "text/plain": [
       "[4.47213595499958,\n",
       " 4.69041575982343,\n",
       " 4.898979485566356,\n",
       " 5.0990195135927845,\n",
       " 5.291502622129181,\n",
       " 5.477225575051661]"
      ]
     },
     "execution_count": 27,
     "metadata": {},
     "output_type": "execute_result"
    }
   ],
   "source": [
    "# 1\n",
    "rdd_sqrt = rdd_pares.map(lambda x: math.sqrt(x))\n",
    "rdd_sqrt.collect()"
   ]
  },
  {
   "cell_type": "code",
   "execution_count": 28,
   "metadata": {},
   "outputs": [
    {
     "data": {
      "text/plain": [
       "[20,\n",
       " 4.47213595499958,\n",
       " 22,\n",
       " 4.69041575982343,\n",
       " 24,\n",
       " 4.898979485566356,\n",
       " 26,\n",
       " 5.0990195135927845,\n",
       " 28,\n",
       " 5.291502622129181,\n",
       " 30,\n",
       " 5.477225575051661]"
      ]
     },
     "execution_count": 28,
     "metadata": {},
     "output_type": "execute_result"
    }
   ],
   "source": [
    "# 2\n",
    "rdd_sqrt_kv = rdd_pares.flatMap(lambda x: (x, math.sqrt(x)))\n",
    "rdd_sqrt_kv.collect()"
   ]
  },
  {
   "cell_type": "code",
   "execution_count": 29,
   "metadata": {},
   "outputs": [
    {
     "data": {
      "text/plain": [
       "20"
      ]
     },
     "execution_count": 29,
     "metadata": {},
     "output_type": "execute_result"
    }
   ],
   "source": [
    "# 3\n",
    "rdd_sqrt20 = rdd_sqrt.repartition(20)\n",
    "rdd_sqrt20.getNumPartitions()"
   ]
  },
  {
   "cell_type": "code",
   "execution_count": 30,
   "metadata": {},
   "outputs": [],
   "source": [
    "# 4\n",
    "# Usaría coalesce"
   ]
  },
  {
   "cell_type": "markdown",
   "metadata": {},
   "source": [
    "Cree un RDD del tipo clave valor a partir de los datos adjuntos como recurso a esta lección. Tenga en cuenta que deberá procesar el RDD leído para obtener el resultado solicitado. Supongamos que el RDD resultante de tipo clave valor refleja las transacciones realizadas por número de cuentas. Obtenga el monto total por cada cuenta.\n",
    "\n",
    "Tip: Cree su propia función para procesar el RDD leído."
   ]
  },
  {
   "cell_type": "code",
   "execution_count": 55,
   "metadata": {},
   "outputs": [
    {
     "data": {
      "text/plain": [
       "['(1001, 52.3)',\n",
       " '(1005, 20.8)',\n",
       " '(1001, 10.1)',\n",
       " '(1004, 52.7)',\n",
       " '(1005, 20.7)',\n",
       " '(1002, 85.3)',\n",
       " '(1004, 20.9)']"
      ]
     },
     "execution_count": 55,
     "metadata": {},
     "output_type": "execute_result"
    }
   ],
   "source": [
    "#Esto es un rdd de texto que tendremos que transformar en números\n",
    "rdd_trans = sc.textFile('./data/transacciones.txt')\n",
    "rdd_trans.collect()"
   ]
  },
  {
   "cell_type": "code",
   "execution_count": 74,
   "metadata": {},
   "outputs": [],
   "source": [
    "#Creamos una función para transformar el RDD\n",
    "def text_num(rdd):\n",
    "    return tuple((rdd.replace('(','').replace(')','')).split(', '))"
   ]
  },
  {
   "cell_type": "code",
   "execution_count": 76,
   "metadata": {},
   "outputs": [
    {
     "data": {
      "text/plain": [
       "[('1001', '52.3'),\n",
       " ('1005', '20.8'),\n",
       " ('1001', '10.1'),\n",
       " ('1004', '52.7'),\n",
       " ('1005', '20.7'),\n",
       " ('1002', '85.3'),\n",
       " ('1004', '20.9')]"
      ]
     },
     "execution_count": 76,
     "metadata": {},
     "output_type": "execute_result"
    }
   ],
   "source": [
    "rdd_trans_kv = rdd_trans.map(text_num)\n",
    "\n",
    "# Ahora tenemos key-value, pero ambas son de tipo string\n",
    "rdd_trans_kv.collect()"
   ]
  },
  {
   "cell_type": "code",
   "execution_count": 79,
   "metadata": {},
   "outputs": [
    {
     "data": {
      "text/plain": [
       "[('1002', 85.3), ('1001', 62.4), ('1005', 41.5), ('1004', 73.6)]"
      ]
     },
     "execution_count": 79,
     "metadata": {},
     "output_type": "execute_result"
    }
   ],
   "source": [
    "# Como sólo hay una key con valor 1002, no llegará a transformarlo en float porque no se le aplica la lambda de reduceByKey, \n",
    "# así que habrá que indicárselo con un map\n",
    "rdd_trans_total = rdd_trans_kv.reduceByKey(lambda x,y: float(x) + float(y)).map(lambda x: (x[0], float(x[1])))\n",
    "rdd_trans_total.collect()"
   ]
  }
 ],
 "metadata": {
  "kernelspec": {
   "display_name": "pyspark-IyzVi8nU",
   "language": "python",
   "name": "python3"
  },
  "language_info": {
   "codemirror_mode": {
    "name": "ipython",
    "version": 3
   },
   "file_extension": ".py",
   "mimetype": "text/x-python",
   "name": "python",
   "nbconvert_exporter": "python",
   "pygments_lexer": "ipython3",
   "version": "3.10.6"
  },
  "orig_nbformat": 4
 },
 "nbformat": 4,
 "nbformat_minor": 2
}
