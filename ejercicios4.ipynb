{
 "cells": [
  {
   "cell_type": "markdown",
   "metadata": {},
   "source": [
    "Cree un RDD importes a partir de los datos adjuntos a esta lección como recurso. Emplee acumuladores para obtener el total de ventas realizadas y el importe total de las ventas."
   ]
  },
  {
   "cell_type": "code",
   "execution_count": null,
   "metadata": {},
   "outputs": [],
   "source": []
  },
  {
   "cell_type": "markdown",
   "metadata": {},
   "source": [
    "Si se conoce que a cada venta hay que restarle un importe fijo igual a 10 pesos por temas de impuestos.\n",
    "\n",
    "    1.-¿Cómo restaría este impuesto de cada venta utilizando una variable broadcast para acelerar el proceso?\n",
    "    2.-Cree un RDD llamado ventas_sin_impuestos a partir de la propuesta del inciso a que contenga las ventas sin impuestos.\n",
    "    3.-Destruya la variable broadcast creada luego de emplearla para crear el RDD del inciso b."
   ]
  },
  {
   "cell_type": "code",
   "execution_count": null,
   "metadata": {},
   "outputs": [],
   "source": []
  },
  {
   "cell_type": "markdown",
   "metadata": {},
   "source": [
    "Persista el RDD ventas_sin_impuestos en los siguientes niveles de persistencia.\n",
    "\n",
    "    1.-Memoria.\n",
    "    2.-Disco solamente\n",
    "    3.-Memoria y disco."
   ]
  },
  {
   "cell_type": "code",
   "execution_count": null,
   "metadata": {},
   "outputs": [],
   "source": []
  }
 ],
 "metadata": {
  "language_info": {
   "name": "python"
  },
  "orig_nbformat": 4
 },
 "nbformat": 4,
 "nbformat_minor": 2
}
