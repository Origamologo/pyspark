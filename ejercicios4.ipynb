{
 "cells": [
  {
   "cell_type": "code",
   "execution_count": 1,
   "metadata": {},
   "outputs": [
    {
     "name": "stderr",
     "output_type": "stream",
     "text": [
      "23/07/18 14:15:57 WARN Utils: Your hostname, RNTDELL000700 resolves to a loopback address: 127.0.1.1; using 192.168.1.131 instead (on interface wlp0s20f3)\n",
      "23/07/18 14:15:57 WARN Utils: Set SPARK_LOCAL_IP if you need to bind to another address\n",
      "Setting default log level to \"WARN\".\n",
      "To adjust logging level use sc.setLogLevel(newLevel). For SparkR, use setLogLevel(newLevel).\n",
      "23/07/18 14:15:58 WARN NativeCodeLoader: Unable to load native-hadoop library for your platform... using builtin-java classes where applicable\n",
      "23/07/18 14:15:58 WARN Utils: Service 'SparkUI' could not bind on port 4040. Attempting port 4041.\n"
     ]
    }
   ],
   "source": [
    "import findspark\n",
    "from pyspark.sql import SparkSession\n",
    "from pyspark.storagelevel import StorageLevel\n",
    "\n",
    "findspark.init()\n",
    "spark = SparkSession.builder.master(\"local[*]\").getOrCreate()"
   ]
  },
  {
   "cell_type": "code",
   "execution_count": 2,
   "metadata": {},
   "outputs": [],
   "source": [
    "sc = spark.sparkContext"
   ]
  },
  {
   "cell_type": "markdown",
   "metadata": {},
   "source": [
    "Cree un RDD importes a partir de los datos adjuntos a esta lección como recurso. Emplee acumuladores para obtener el total de ventas realizadas y el importe total de las ventas."
   ]
  },
  {
   "cell_type": "code",
   "execution_count": 3,
   "metadata": {},
   "outputs": [],
   "source": [
    "importes = sc.textFile('./data/rdd.txt')"
   ]
  },
  {
   "cell_type": "code",
   "execution_count": 4,
   "metadata": {},
   "outputs": [
    {
     "name": "stdout",
     "output_type": "stream",
     "text": [
      "{'str'}\n"
     ]
    }
   ],
   "source": [
    "# Comprobamos que los datos están en forma de string, no de int\n",
    "data_type = importes.map(lambda x: type(x).__name__).collect()\n",
    "print(set(data_type))"
   ]
  },
  {
   "cell_type": "code",
   "execution_count": 5,
   "metadata": {},
   "outputs": [
    {
     "data": {
      "text/plain": [
       "[527.0, 386.0, 701.0, 240.0, 941.0, 27.0, 396.0, 56.0, 456.0, 148.0]"
      ]
     },
     "execution_count": 5,
     "metadata": {},
     "output_type": "execute_result"
    }
   ],
   "source": [
    "# Cambiamos los datos a int\n",
    "importes_int = importes.map(lambda x: float(x))\n",
    "importes_int.take(10)"
   ]
  },
  {
   "cell_type": "code",
   "execution_count": 6,
   "metadata": {},
   "outputs": [],
   "source": [
    "acumuladorVentas = sc.accumulator(0)\n",
    "acumuladorImporte = sc.accumulator(0)"
   ]
  },
  {
   "cell_type": "code",
   "execution_count": 7,
   "metadata": {},
   "outputs": [],
   "source": [
    "importes_int.foreach(lambda x: acumuladorVentas.add(1))\n",
    "importes_int.foreach(lambda x: acumuladorImporte.add(x))"
   ]
  },
  {
   "cell_type": "code",
   "execution_count": 8,
   "metadata": {},
   "outputs": [
    {
     "name": "stdout",
     "output_type": "stream",
     "text": [
      "El número total de ventas realizadas es 10000\n",
      "El número importe total de las ventas es 5042335.0\n"
     ]
    }
   ],
   "source": [
    "print('El número total de ventas realizadas es ' + str(acumuladorVentas.value))\n",
    "print('El número importe total de las ventas es ' + str(acumuladorImporte.value))"
   ]
  },
  {
   "cell_type": "markdown",
   "metadata": {},
   "source": [
    "Si se conoce que a cada venta hay que restarle un importe fijo igual a 10 pesos por temas de impuestos.\n",
    "\n",
    "    1.-¿Cómo restaría este impuesto de cada venta utilizando una variable broadcast para acelerar el proceso?\n",
    "    2.-Cree un RDD llamado ventas_sin_impuestos a partir de la propuesta del inciso 1 que contenga las ventas sin impuestos.\n",
    "    3.-Destruya la variable broadcast creada luego de emplearla para crear el RDD del inciso 2."
   ]
  },
  {
   "cell_type": "code",
   "execution_count": 9,
   "metadata": {},
   "outputs": [
    {
     "name": "stdout",
     "output_type": "stream",
     "text": [
      "[517.0, 376.0, 691.0, 230.0, 931.0, 17.0, 386.0, 46.0, 446.0, 138.0]\n"
     ]
    }
   ],
   "source": [
    "# Creamos la broadcast variable \n",
    "ten = 10\n",
    "br_ten = sc.broadcast(ten)\n",
    "\n",
    "# Usamos la broadcast variable\n",
    "ventas_sin_impuestos = importes_int.map(lambda x: x - br_ten.value)\n",
    "print(ventas_sin_impuestos.take(10))\n",
    "\n",
    "# Destruímos la variable broadcast\n",
    "br_ten.destroy()"
   ]
  },
  {
   "cell_type": "markdown",
   "metadata": {},
   "source": [
    "Persista el RDD ventas_sin_impuestos en los siguientes niveles de persistencia.\n",
    "\n",
    "    1.-Memoria.\n",
    "    2.-Disco solamente\n",
    "    3.-Memoria y disco."
   ]
  },
  {
   "cell_type": "code",
   "execution_count": 10,
   "metadata": {},
   "outputs": [
    {
     "data": {
      "text/plain": [
       "PythonRDD[7] at RDD at PythonRDD.scala:53"
      ]
     },
     "execution_count": 10,
     "metadata": {},
     "output_type": "execute_result"
    }
   ],
   "source": [
    "# 1\n",
    "ventas_sin_impuestos.cache()\n",
    "ventas_sin_impuestos.unpersist()"
   ]
  },
  {
   "cell_type": "code",
   "execution_count": 11,
   "metadata": {},
   "outputs": [
    {
     "data": {
      "text/plain": [
       "PythonRDD[7] at RDD at PythonRDD.scala:53"
      ]
     },
     "execution_count": 11,
     "metadata": {},
     "output_type": "execute_result"
    }
   ],
   "source": [
    "# 2\n",
    "ventas_sin_impuestos.persist(StorageLevel.DISK_ONLY)\n",
    "ventas_sin_impuestos.unpersist()"
   ]
  },
  {
   "cell_type": "code",
   "execution_count": 12,
   "metadata": {},
   "outputs": [
    {
     "data": {
      "text/plain": [
       "PythonRDD[7] at RDD at PythonRDD.scala:53"
      ]
     },
     "execution_count": 12,
     "metadata": {},
     "output_type": "execute_result"
    }
   ],
   "source": [
    "# 3\n",
    "ventas_sin_impuestos.persist(StorageLevel.MEMORY_AND_DISK)\n",
    "ventas_sin_impuestos.unpersist()"
   ]
  }
 ],
 "metadata": {
  "kernelspec": {
   "display_name": "pyspark-IyzVi8nU",
   "language": "python",
   "name": "python3"
  },
  "language_info": {
   "codemirror_mode": {
    "name": "ipython",
    "version": 3
   },
   "file_extension": ".py",
   "mimetype": "text/x-python",
   "name": "python",
   "nbconvert_exporter": "python",
   "pygments_lexer": "ipython3",
   "version": "3.10.6"
  },
  "orig_nbformat": 4
 },
 "nbformat": 4,
 "nbformat_minor": 2
}
