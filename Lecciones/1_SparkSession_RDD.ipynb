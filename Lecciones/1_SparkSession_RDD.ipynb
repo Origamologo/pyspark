{
 "cells": [
  {
   "cell_type": "markdown",
   "id": "9a4fd964",
   "metadata": {},
   "source": [
    "### 1. SparkSession\n",
    "\n",
    "Es un conducto unificado para todas las operaciones de spark.\\\n",
    "A través de la sesión de Spark podemos crear data frames, leer fuentes de datos, acceder a metadatos de catálogos y emitir consultas para SQL.  \n",
    "SparkSession proporciona un único punto de entrada unificado a todas las funciones de spark."
   ]
  },
  {
   "cell_type": "code",
   "execution_count": 2,
   "id": "2f1568c8",
   "metadata": {},
   "outputs": [],
   "source": [
    "import findspark\n",
    "\n",
    "findspark.init()"
   ]
  },
  {
   "cell_type": "code",
   "execution_count": 3,
   "id": "7bd0f2c6",
   "metadata": {},
   "outputs": [
    {
     "name": "stderr",
     "output_type": "stream",
     "text": [
      "23/07/14 12:31:49 WARN Utils: Your hostname, RNTDELL000700 resolves to a loopback address: 127.0.1.1; using 192.168.1.131 instead (on interface wlp0s20f3)\n",
      "23/07/14 12:31:49 WARN Utils: Set SPARK_LOCAL_IP if you need to bind to another address\n",
      "Setting default log level to \"WARN\".\n",
      "To adjust logging level use sc.setLogLevel(newLevel). For SparkR, use setLogLevel(newLevel).\n",
      "23/07/14 12:31:49 WARN NativeCodeLoader: Unable to load native-hadoop library for your platform... using builtin-java classes where applicable\n"
     ]
    }
   ],
   "source": [
    "from pyspark.sql import SparkSession\n",
    "\n",
    "# Podemo indicarle el número de cores que queremos que use con builder, si ejecutamos en un cluster añadimos master \n",
    "# y si ejecutamos en local, le pasamos a master como argumento local, con el número de cores entre paréntesis; \n",
    "# si queremos que use todos, ponemos *\n",
    "# También podemos añadir el nombre de la aplicación con appName\n",
    "spark = SparkSession.builder.master(\"local[*]\").appName('Curso_Pyspark').getOrCreate()"
   ]
  },
  {
   "cell_type": "code",
   "execution_count": 6,
   "id": "8a1de2ee",
   "metadata": {},
   "outputs": [
    {
     "data": {
      "text/html": [
       "\n",
       "            <div>\n",
       "                <p><b>SparkSession - in-memory</b></p>\n",
       "                \n",
       "        <div>\n",
       "            <p><b>SparkContext</b></p>\n",
       "\n",
       "            <p><a href=\"http://rntdell000700.home:4040\">Spark UI</a></p>\n",
       "\n",
       "            <dl>\n",
       "              <dt>Version</dt>\n",
       "                <dd><code>v3.4.1</code></dd>\n",
       "              <dt>Master</dt>\n",
       "                <dd><code>local[*]</code></dd>\n",
       "              <dt>AppName</dt>\n",
       "                <dd><code>pyspark-shell</code></dd>\n",
       "            </dl>\n",
       "        </div>\n",
       "        \n",
       "            </div>\n",
       "        "
      ],
      "text/plain": [
       "<pyspark.sql.session.SparkSession at 0x7f21c42261d0>"
      ]
     },
     "execution_count": 6,
     "metadata": {},
     "output_type": "execute_result"
    }
   ],
   "source": [
    "#Comprobamos que se ha creado la sesión de spark\n",
    "spark"
   ]
  },
  {
   "cell_type": "code",
   "execution_count": 3,
   "id": "cad807c3",
   "metadata": {},
   "outputs": [
    {
     "name": "stdout",
     "output_type": "stream",
     "text": [
      "+-----+\n",
      "|Hola |\n",
      "+-----+\n",
      "|Mundo|\n",
      "|Mundo|\n",
      "|Mundo|\n",
      "|Mundo|\n",
      "|Mundo|\n",
      "|Mundo|\n",
      "|Mundo|\n",
      "|Mundo|\n",
      "|Mundo|\n",
      "|Mundo|\n",
      "+-----+\n",
      "\n"
     ]
    }
   ],
   "source": [
    "df = spark.createDataFrame([{\"Hola\": \"Mundo\"} for x in range(10)])\n",
    "\n",
    "df.show(10, False)"
   ]
  },
  {
   "cell_type": "markdown",
   "id": "cf596d8a",
   "metadata": {},
   "source": [
    "### 2. RDD\n",
    "\n",
    "Restilient Distributed Dataset RDD es la abstracción principal de spark.\\\n",
    "Son una colección de elementos posicionados a través de los nodos del cluster, que pueden ser operados en paralelo.\n",
    "\n",
    "Hay tres características asociadas a un RDD:\n",
    "\n",
    "* **Dependencias:** es una lista que le indica a spark cómo se construye un RDD con sus entradas. Cuando sea necesario reproducir resultados spark puede recrear un RD a partir de estas dependencias y replicar operaciones en él. Esta característica otorga resiliencia a los RDD.\n",
    "\n",
    "* **Particiones:** brindan a spark la capacidad de dividir el trabajo para paralelizar el cálculo en particiones entre ejecutores.\n",
    "\n",
    "* **Función de cálculo:** produce un iterador para los datos que se almacenarán en el RDD."
   ]
  },
  {
   "cell_type": "code",
   "execution_count": 7,
   "id": "fda10dc7",
   "metadata": {},
   "outputs": [],
   "source": [
    "# Para crear un RDD primero tenemos que crear una sesión de spark que internamente cree un SparkContext\n",
    "sc = spark.sparkContext"
   ]
  },
  {
   "cell_type": "code",
   "execution_count": 8,
   "id": "ccd362e7",
   "metadata": {},
   "outputs": [],
   "source": [
    "# Crear un RDD vacío\n",
    "rdd_vacio = sc.emptyRDD"
   ]
  },
  {
   "cell_type": "code",
   "execution_count": 9,
   "id": "32ce2ebe",
   "metadata": {},
   "outputs": [
    {
     "data": {
      "text/plain": [
       "3"
      ]
     },
     "execution_count": 9,
     "metadata": {},
     "output_type": "execute_result"
    }
   ],
   "source": [
    "# Crear un RDD vacío con 3 particiones usando parallelize\n",
    "\n",
    "rdd_vacio3 = sc.parallelize([], 3)\n",
    "\n",
    "rdd_vacio3.getNumPartitions()"
   ]
  },
  {
   "cell_type": "code",
   "execution_count": 10,
   "id": "00b71afc",
   "metadata": {},
   "outputs": [
    {
     "data": {
      "text/plain": [
       "ParallelCollectionRDD[8] at readRDDFromFile at PythonRDD.scala:287"
      ]
     },
     "execution_count": 10,
     "metadata": {},
     "output_type": "execute_result"
    }
   ],
   "source": [
    "# Crear un RDD con parallelize, pero que sí contenga datos\n",
    "\n",
    "rdd = sc.parallelize([1,2,3,4,5])\n",
    "\n",
    "# Si lo llamamos nos mostrará el objeto construído\n",
    "rdd"
   ]
  },
  {
   "cell_type": "code",
   "execution_count": 11,
   "id": "cdb247ba",
   "metadata": {},
   "outputs": [
    {
     "data": {
      "text/plain": [
       "[1, 2, 3, 4, 5]"
      ]
     },
     "execution_count": 11,
     "metadata": {},
     "output_type": "execute_result"
    }
   ],
   "source": [
    "# Para ver el contenido del RDD usamos collect\n",
    "rdd.collect()"
   ]
  },
  {
   "cell_type": "code",
   "execution_count": 12,
   "id": "897e116b",
   "metadata": {},
   "outputs": [
    {
     "data": {
      "text/plain": [
       "['Así podemos crear', 'un RDD desde un', 'archivo de texto!!!']"
      ]
     },
     "execution_count": 12,
     "metadata": {},
     "output_type": "execute_result"
    }
   ],
   "source": [
    "# Crear un RDD desde un archivo de texto\n",
    "\n",
    "rdd_texto = sc.textFile('./rdd_source.txt')\n",
    "\n",
    "rdd_texto.collect()"
   ]
  },
  {
   "cell_type": "code",
   "execution_count": 13,
   "id": "d7cfe2e6",
   "metadata": {},
   "outputs": [
    {
     "data": {
      "text/plain": [
       "[('file:/home/bluetab/Documents/scala/pyspark/rdd_source.txt',\n",
       "  'Así podemos crear\\nun RDD desde un\\narchivo de texto!!!')]"
      ]
     },
     "execution_count": 13,
     "metadata": {},
     "output_type": "execute_result"
    }
   ],
   "source": [
    "# Crear un RDD donde todo el archivo de texto sea un solo registro\n",
    "\n",
    "rdd_texto_completo = sc.wholeTextFiles('./rdd_source.txt')\n",
    "\n",
    "rdd_texto_completo.collect()"
   ]
  },
  {
   "cell_type": "code",
   "execution_count": 14,
   "id": "1c2f009b",
   "metadata": {},
   "outputs": [
    {
     "data": {
      "text/plain": [
       "[2, 3, 4, 5, 6]"
      ]
     },
     "execution_count": 14,
     "metadata": {},
     "output_type": "execute_result"
    }
   ],
   "source": [
    "# Crear un RDD a partir de otro existente\n",
    "\n",
    "rdd_suma = rdd.map(lambda x: x +1)\n",
    "\n",
    "rdd_suma.collect()"
   ]
  },
  {
   "cell_type": "code",
   "execution_count": 15,
   "id": "fcfbe463",
   "metadata": {},
   "outputs": [
    {
     "name": "stdout",
     "output_type": "stream",
     "text": [
      "+---+------+\n",
      "| id|nombre|\n",
      "+---+------+\n",
      "|  1|  jose|\n",
      "|  2|  juan|\n",
      "+---+------+\n",
      "\n"
     ]
    }
   ],
   "source": [
    "# Crear un RDD a partir de un DataFrame\n",
    "\n",
    "df = spark.createDataFrame([(1, 'jose'), (2, 'juan')], ['id', 'nombre'])\n",
    "\n",
    "df.show()"
   ]
  },
  {
   "cell_type": "code",
   "execution_count": 16,
   "id": "cdbcd239",
   "metadata": {},
   "outputs": [
    {
     "data": {
      "text/plain": [
       "[Row(id=1, nombre='jose'), Row(id=2, nombre='juan')]"
      ]
     },
     "execution_count": 16,
     "metadata": {},
     "output_type": "execute_result"
    }
   ],
   "source": [
    "rdd_df = df.rdd\n",
    "\n",
    "rdd_df.collect()"
   ]
  }
 ],
 "metadata": {
  "kernelspec": {
   "display_name": "Python 3 (ipykernel)",
   "language": "python",
   "name": "python3"
  },
  "language_info": {
   "codemirror_mode": {
    "name": "ipython",
    "version": 3
   },
   "file_extension": ".py",
   "mimetype": "text/x-python",
   "name": "python",
   "nbconvert_exporter": "python",
   "pygments_lexer": "ipython3",
   "version": "3.10.6"
  }
 },
 "nbformat": 4,
 "nbformat_minor": 5
}
