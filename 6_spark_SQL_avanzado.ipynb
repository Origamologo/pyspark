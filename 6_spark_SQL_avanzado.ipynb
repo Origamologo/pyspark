{
 "cells": [
  {
   "cell_type": "markdown",
   "metadata": {},
   "source": [
    "## 1. Agregaciones\n",
    "\n",
    "La realización de análisis interesante sobre Big Data generalmente implica algún tipo de agregación para resumir los datos con el fin de extraer patrones, conocimientos o simplemente generar informes resumidos.\n",
    "\n",
    "Las agregaciones generalmente requieren de alguna forma de agrupación, ya sea en todo el conjunto de datos o en una o más columnas, y luego aplican funciones de agregación como sumar, contar o promediar a cada grupo.\n",
    "\n",
    "Spark proporciona muchas funciones de agregación de uso común, así como la capacidad de agregar los valores de una colección que luego se pueden analizar más a fondo.\n",
    "\n",
    "La agrupación de filas se puede realizar en diferentes niveles y spark admite los siguientes niveles:\n",
    "\n",
    "* Tratar un DF como un grupo.\n",
    "\n",
    "* Dividir un DF en varios grupos utilizando una o más columnas y realizar una o más agregaciones en cada uno de estos grupos.\n",
    "\n",
    "* Dividir un DF en varias ventanas y realizar una media móvil, una suma acumulativa o una clasificación.\n",
    "\n",
    "En spark todas las agregaciones se realizan a través de funciones.\\\n",
    "Las funciones de agregación están diseñadas para realizar la agregación en un conjunto de filas, yasea que ese conjunto de filas consista en todas las filas o en un subgrupo de filas en un DF."
   ]
  }
 ],
 "metadata": {
  "language_info": {
   "name": "python"
  },
  "orig_nbformat": 4
 },
 "nbformat": 4,
 "nbformat_minor": 2
}
